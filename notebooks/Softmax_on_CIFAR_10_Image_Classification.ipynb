{
  "nbformat": 4,
  "nbformat_minor": 0,
  "metadata": {
    "colab": {
      "provenance": []
    },
    "kernelspec": {
      "name": "python3",
      "display_name": "Python 3"
    },
    "language_info": {
      "name": "python"
    },
    "accelerator": "GPU",
    "gpuClass": "standard"
  },
  "cells": [
    {
      "cell_type": "code",
      "source": [
        "!pip install keras-tuner"
      ],
      "metadata": {
        "colab": {
          "base_uri": "https://localhost:8080/"
        },
        "id": "HDSjfjKskV5P",
        "outputId": "a9de2ae4-f876-4717-ada6-cba64fe7eec3"
      },
      "execution_count": null,
      "outputs": [
        {
          "output_type": "stream",
          "name": "stdout",
          "text": [
            "Looking in indexes: https://pypi.org/simple, https://us-python.pkg.dev/colab-wheels/public/simple/\n",
            "Collecting keras-tuner\n",
            "  Downloading keras_tuner-1.3.4-py3-none-any.whl (172 kB)\n",
            "\u001b[2K     \u001b[90m━━━━━━━━━━━━━━━━━━━━━━━━━━━━━━━━━━━━━━━\u001b[0m \u001b[32m172.2/172.2 KB\u001b[0m \u001b[31m3.5 MB/s\u001b[0m eta \u001b[36m0:00:00\u001b[0m\n",
            "\u001b[?25hRequirement already satisfied: tensorflow>=2.0 in /usr/local/lib/python3.9/dist-packages (from keras-tuner) (2.12.0)\n",
            "Requirement already satisfied: protobuf<=3.20.3 in /usr/local/lib/python3.9/dist-packages (from keras-tuner) (3.20.3)\n",
            "Requirement already satisfied: requests in /usr/local/lib/python3.9/dist-packages (from keras-tuner) (2.27.1)\n",
            "Collecting kt-legacy\n",
            "  Downloading kt_legacy-1.0.4-py3-none-any.whl (9.6 kB)\n",
            "Requirement already satisfied: packaging in /usr/local/lib/python3.9/dist-packages (from keras-tuner) (23.0)\n",
            "Requirement already satisfied: numpy<1.24,>=1.22 in /usr/local/lib/python3.9/dist-packages (from tensorflow>=2.0->keras-tuner) (1.22.4)\n",
            "Requirement already satisfied: libclang>=13.0.0 in /usr/local/lib/python3.9/dist-packages (from tensorflow>=2.0->keras-tuner) (16.0.0)\n",
            "Requirement already satisfied: wrapt<1.15,>=1.11.0 in /usr/local/lib/python3.9/dist-packages (from tensorflow>=2.0->keras-tuner) (1.14.1)\n",
            "Requirement already satisfied: google-pasta>=0.1.1 in /usr/local/lib/python3.9/dist-packages (from tensorflow>=2.0->keras-tuner) (0.2.0)\n",
            "Requirement already satisfied: gast<=0.4.0,>=0.2.1 in /usr/local/lib/python3.9/dist-packages (from tensorflow>=2.0->keras-tuner) (0.4.0)\n",
            "Requirement already satisfied: tensorflow-estimator<2.13,>=2.12.0 in /usr/local/lib/python3.9/dist-packages (from tensorflow>=2.0->keras-tuner) (2.12.0)\n",
            "Requirement already satisfied: tensorboard<2.13,>=2.12 in /usr/local/lib/python3.9/dist-packages (from tensorflow>=2.0->keras-tuner) (2.12.0)\n",
            "Requirement already satisfied: typing-extensions>=3.6.6 in /usr/local/lib/python3.9/dist-packages (from tensorflow>=2.0->keras-tuner) (4.5.0)\n",
            "Requirement already satisfied: grpcio<2.0,>=1.24.3 in /usr/local/lib/python3.9/dist-packages (from tensorflow>=2.0->keras-tuner) (1.53.0)\n",
            "Requirement already satisfied: jax>=0.3.15 in /usr/local/lib/python3.9/dist-packages (from tensorflow>=2.0->keras-tuner) (0.4.7)\n",
            "Requirement already satisfied: h5py>=2.9.0 in /usr/local/lib/python3.9/dist-packages (from tensorflow>=2.0->keras-tuner) (3.8.0)\n",
            "Requirement already satisfied: termcolor>=1.1.0 in /usr/local/lib/python3.9/dist-packages (from tensorflow>=2.0->keras-tuner) (2.2.0)\n",
            "Requirement already satisfied: opt-einsum>=2.3.2 in /usr/local/lib/python3.9/dist-packages (from tensorflow>=2.0->keras-tuner) (3.3.0)\n",
            "Requirement already satisfied: keras<2.13,>=2.12.0 in /usr/local/lib/python3.9/dist-packages (from tensorflow>=2.0->keras-tuner) (2.12.0)\n",
            "Requirement already satisfied: astunparse>=1.6.0 in /usr/local/lib/python3.9/dist-packages (from tensorflow>=2.0->keras-tuner) (1.6.3)\n",
            "Requirement already satisfied: six>=1.12.0 in /usr/local/lib/python3.9/dist-packages (from tensorflow>=2.0->keras-tuner) (1.16.0)\n",
            "Requirement already satisfied: tensorflow-io-gcs-filesystem>=0.23.1 in /usr/local/lib/python3.9/dist-packages (from tensorflow>=2.0->keras-tuner) (0.32.0)\n",
            "Requirement already satisfied: setuptools in /usr/local/lib/python3.9/dist-packages (from tensorflow>=2.0->keras-tuner) (67.6.1)\n",
            "Requirement already satisfied: flatbuffers>=2.0 in /usr/local/lib/python3.9/dist-packages (from tensorflow>=2.0->keras-tuner) (23.3.3)\n",
            "Requirement already satisfied: absl-py>=1.0.0 in /usr/local/lib/python3.9/dist-packages (from tensorflow>=2.0->keras-tuner) (1.4.0)\n",
            "Requirement already satisfied: certifi>=2017.4.17 in /usr/local/lib/python3.9/dist-packages (from requests->keras-tuner) (2022.12.7)\n",
            "Requirement already satisfied: charset-normalizer~=2.0.0 in /usr/local/lib/python3.9/dist-packages (from requests->keras-tuner) (2.0.12)\n",
            "Requirement already satisfied: urllib3<1.27,>=1.21.1 in /usr/local/lib/python3.9/dist-packages (from requests->keras-tuner) (1.26.15)\n",
            "Requirement already satisfied: idna<4,>=2.5 in /usr/local/lib/python3.9/dist-packages (from requests->keras-tuner) (3.4)\n",
            "Requirement already satisfied: wheel<1.0,>=0.23.0 in /usr/local/lib/python3.9/dist-packages (from astunparse>=1.6.0->tensorflow>=2.0->keras-tuner) (0.40.0)\n",
            "Requirement already satisfied: scipy>=1.7 in /usr/local/lib/python3.9/dist-packages (from jax>=0.3.15->tensorflow>=2.0->keras-tuner) (1.10.1)\n",
            "Requirement already satisfied: ml-dtypes>=0.0.3 in /usr/local/lib/python3.9/dist-packages (from jax>=0.3.15->tensorflow>=2.0->keras-tuner) (0.0.4)\n",
            "Requirement already satisfied: google-auth-oauthlib<0.5,>=0.4.1 in /usr/local/lib/python3.9/dist-packages (from tensorboard<2.13,>=2.12->tensorflow>=2.0->keras-tuner) (0.4.6)\n",
            "Requirement already satisfied: markdown>=2.6.8 in /usr/local/lib/python3.9/dist-packages (from tensorboard<2.13,>=2.12->tensorflow>=2.0->keras-tuner) (3.4.3)\n",
            "Requirement already satisfied: tensorboard-plugin-wit>=1.6.0 in /usr/local/lib/python3.9/dist-packages (from tensorboard<2.13,>=2.12->tensorflow>=2.0->keras-tuner) (1.8.1)\n",
            "Requirement already satisfied: werkzeug>=1.0.1 in /usr/local/lib/python3.9/dist-packages (from tensorboard<2.13,>=2.12->tensorflow>=2.0->keras-tuner) (2.2.3)\n",
            "Requirement already satisfied: google-auth<3,>=1.6.3 in /usr/local/lib/python3.9/dist-packages (from tensorboard<2.13,>=2.12->tensorflow>=2.0->keras-tuner) (2.17.1)\n",
            "Requirement already satisfied: tensorboard-data-server<0.8.0,>=0.7.0 in /usr/local/lib/python3.9/dist-packages (from tensorboard<2.13,>=2.12->tensorflow>=2.0->keras-tuner) (0.7.0)\n",
            "Requirement already satisfied: pyasn1-modules>=0.2.1 in /usr/local/lib/python3.9/dist-packages (from google-auth<3,>=1.6.3->tensorboard<2.13,>=2.12->tensorflow>=2.0->keras-tuner) (0.2.8)\n",
            "Requirement already satisfied: rsa<5,>=3.1.4 in /usr/local/lib/python3.9/dist-packages (from google-auth<3,>=1.6.3->tensorboard<2.13,>=2.12->tensorflow>=2.0->keras-tuner) (4.9)\n",
            "Requirement already satisfied: cachetools<6.0,>=2.0.0 in /usr/local/lib/python3.9/dist-packages (from google-auth<3,>=1.6.3->tensorboard<2.13,>=2.12->tensorflow>=2.0->keras-tuner) (5.3.0)\n",
            "Requirement already satisfied: requests-oauthlib>=0.7.0 in /usr/local/lib/python3.9/dist-packages (from google-auth-oauthlib<0.5,>=0.4.1->tensorboard<2.13,>=2.12->tensorflow>=2.0->keras-tuner) (1.3.1)\n",
            "Requirement already satisfied: importlib-metadata>=4.4 in /usr/local/lib/python3.9/dist-packages (from markdown>=2.6.8->tensorboard<2.13,>=2.12->tensorflow>=2.0->keras-tuner) (6.1.0)\n",
            "Requirement already satisfied: MarkupSafe>=2.1.1 in /usr/local/lib/python3.9/dist-packages (from werkzeug>=1.0.1->tensorboard<2.13,>=2.12->tensorflow>=2.0->keras-tuner) (2.1.2)\n",
            "Requirement already satisfied: zipp>=0.5 in /usr/local/lib/python3.9/dist-packages (from importlib-metadata>=4.4->markdown>=2.6.8->tensorboard<2.13,>=2.12->tensorflow>=2.0->keras-tuner) (3.15.0)\n",
            "Requirement already satisfied: pyasn1<0.5.0,>=0.4.6 in /usr/local/lib/python3.9/dist-packages (from pyasn1-modules>=0.2.1->google-auth<3,>=1.6.3->tensorboard<2.13,>=2.12->tensorflow>=2.0->keras-tuner) (0.4.8)\n",
            "Requirement already satisfied: oauthlib>=3.0.0 in /usr/local/lib/python3.9/dist-packages (from requests-oauthlib>=0.7.0->google-auth-oauthlib<0.5,>=0.4.1->tensorboard<2.13,>=2.12->tensorflow>=2.0->keras-tuner) (3.2.2)\n",
            "Installing collected packages: kt-legacy, keras-tuner\n",
            "Successfully installed keras-tuner-1.3.4 kt-legacy-1.0.4\n"
          ]
        }
      ]
    },
    {
      "cell_type": "code",
      "execution_count": null,
      "metadata": {
        "id": "D3JRujIrOXDR"
      },
      "outputs": [],
      "source": [
        "import tensorflow as tf\n",
        "import sklearn\n",
        "import keras_tuner as kt\n",
        "from tensorflow import keras\n",
        "from sklearn.model_selection import train_test_split\n",
        "import numpy as np\n",
        "import matplotlib.pyplot as plt"
      ]
    },
    {
      "cell_type": "code",
      "source": [
        "(X_train, y_train), (X_test, y_test) = keras.datasets.cifar10.load_data()\n",
        "X_train = X_train.astype('float32') / 255.0\n",
        "X_test = X_test.astype('float32') / 255.0\n",
        "\n",
        "# split training into training and validation sets\n",
        "X_train, X_val, y_train, y_val = train_test_split(X_train, y_train, test_size=0.2, random_state=42)"
      ],
      "metadata": {
        "id": "QO-poZQqSf15",
        "colab": {
          "base_uri": "https://localhost:8080/"
        },
        "outputId": "c736c254-63c5-4256-fefc-40856a011bd0"
      },
      "execution_count": null,
      "outputs": [
        {
          "output_type": "stream",
          "name": "stdout",
          "text": [
            "Downloading data from https://www.cs.toronto.edu/~kriz/cifar-10-python.tar.gz\n",
            "170498071/170498071 [==============================] - 2s 0us/step\n"
          ]
        }
      ]
    },
    {
      "cell_type": "code",
      "source": [
        "def BaseClassification():\n",
        "  model = keras.Sequential()\n",
        "  model.add(keras.layers.Flatten(input_shape=(32,32,3)))\n",
        "  model.add(keras.layers.Dense(units=10, activation=\"softmax\"))\n",
        "\n",
        "  opt = keras.optimizers.Adam(learning_rate=0.01)\n",
        "  model.compile(optimizer=opt, loss=\"sparse_categorical_crossentropy\", metrics=['accuracy'])\n",
        "\n",
        "  return model"
      ],
      "metadata": {
        "id": "8EW13LjcgJZh"
      },
      "execution_count": null,
      "outputs": []
    },
    {
      "cell_type": "code",
      "source": [
        "model = BaseClassification()"
      ],
      "metadata": {
        "id": "4Q5u8F5RhCRS"
      },
      "execution_count": null,
      "outputs": []
    },
    {
      "cell_type": "code",
      "source": [
        "model.fit(X_train, y_train, validation_data=(X_val, y_val), epochs=20)"
      ],
      "metadata": {
        "colab": {
          "base_uri": "https://localhost:8080/"
        },
        "id": "A9YDyhPAhEuB",
        "outputId": "5b30b00c-7720-4db9-aa4f-7c80ea13c35e"
      },
      "execution_count": null,
      "outputs": [
        {
          "output_type": "stream",
          "name": "stdout",
          "text": [
            "Epoch 1/20\n",
            "1250/1250 [==============================] - 6s 4ms/step - loss: 1.9631 - accuracy: 0.2980 - val_loss: 1.8718 - val_accuracy: 0.3392\n",
            "Epoch 2/20\n",
            "1250/1250 [==============================] - 3s 3ms/step - loss: 1.8577 - accuracy: 0.3438 - val_loss: 1.9037 - val_accuracy: 0.3357\n",
            "Epoch 3/20\n",
            "1250/1250 [==============================] - 3s 3ms/step - loss: 1.8230 - accuracy: 0.3615 - val_loss: 1.8111 - val_accuracy: 0.3642\n",
            "Epoch 4/20\n",
            "1250/1250 [==============================] - 4s 3ms/step - loss: 1.8029 - accuracy: 0.3749 - val_loss: 1.7976 - val_accuracy: 0.3687\n",
            "Epoch 5/20\n",
            "1250/1250 [==============================] - 3s 3ms/step - loss: 1.7893 - accuracy: 0.3767 - val_loss: 1.7996 - val_accuracy: 0.3709\n",
            "Epoch 6/20\n",
            "1250/1250 [==============================] - 4s 3ms/step - loss: 1.7810 - accuracy: 0.3794 - val_loss: 1.7825 - val_accuracy: 0.3824\n",
            "Epoch 7/20\n",
            "1250/1250 [==============================] - 4s 3ms/step - loss: 1.7712 - accuracy: 0.3836 - val_loss: 1.8278 - val_accuracy: 0.3514\n",
            "Epoch 8/20\n",
            "1250/1250 [==============================] - 3s 3ms/step - loss: 1.7624 - accuracy: 0.3870 - val_loss: 1.7511 - val_accuracy: 0.3924\n",
            "Epoch 9/20\n",
            "1250/1250 [==============================] - 3s 3ms/step - loss: 1.7553 - accuracy: 0.3905 - val_loss: 1.7967 - val_accuracy: 0.3693\n",
            "Epoch 10/20\n",
            "1250/1250 [==============================] - 4s 3ms/step - loss: 1.7523 - accuracy: 0.3922 - val_loss: 1.8263 - val_accuracy: 0.3684\n",
            "Epoch 11/20\n",
            "1250/1250 [==============================] - 4s 3ms/step - loss: 1.7452 - accuracy: 0.3950 - val_loss: 1.7759 - val_accuracy: 0.3888\n",
            "Epoch 12/20\n",
            "1250/1250 [==============================] - 3s 3ms/step - loss: 1.7414 - accuracy: 0.3947 - val_loss: 1.7337 - val_accuracy: 0.4074\n",
            "Epoch 13/20\n",
            "1250/1250 [==============================] - 3s 3ms/step - loss: 1.7339 - accuracy: 0.4001 - val_loss: 1.7563 - val_accuracy: 0.3947\n",
            "Epoch 14/20\n",
            "1250/1250 [==============================] - 4s 3ms/step - loss: 1.7343 - accuracy: 0.4002 - val_loss: 1.7864 - val_accuracy: 0.3850\n",
            "Epoch 15/20\n",
            "1250/1250 [==============================] - 4s 3ms/step - loss: 1.7295 - accuracy: 0.4001 - val_loss: 1.7921 - val_accuracy: 0.3762\n",
            "Epoch 16/20\n",
            "1250/1250 [==============================] - 3s 3ms/step - loss: 1.7263 - accuracy: 0.4017 - val_loss: 1.8365 - val_accuracy: 0.3575\n",
            "Epoch 17/20\n",
            "1250/1250 [==============================] - 4s 3ms/step - loss: 1.7241 - accuracy: 0.4034 - val_loss: 1.7448 - val_accuracy: 0.3964\n",
            "Epoch 18/20\n",
            "1250/1250 [==============================] - 4s 3ms/step - loss: 1.7231 - accuracy: 0.4049 - val_loss: 1.7591 - val_accuracy: 0.3947\n",
            "Epoch 19/20\n",
            "1250/1250 [==============================] - 4s 3ms/step - loss: 1.7177 - accuracy: 0.4064 - val_loss: 1.7291 - val_accuracy: 0.4048\n",
            "Epoch 20/20\n",
            "1250/1250 [==============================] - 4s 3ms/step - loss: 1.7154 - accuracy: 0.4071 - val_loss: 1.7739 - val_accuracy: 0.3916\n"
          ]
        }
      ]
    },
    {
      "cell_type": "code",
      "source": [
        "model.evaluate(X_test, y_test)"
      ],
      "metadata": {
        "colab": {
          "base_uri": "https://localhost:8080/"
        },
        "id": "VSVUKfO1jaDa",
        "outputId": "b3f360fa-cd1d-44e1-9802-4a0c0659d426"
      },
      "execution_count": null,
      "outputs": [
        {
          "output_type": "stream",
          "name": "stdout",
          "text": [
            "313/313 [==============================] - 1s 2ms/step - loss: 1.7593 - accuracy: 0.3857\n"
          ]
        },
        {
          "output_type": "execute_result",
          "data": {
            "text/plain": [
              "[1.7593483924865723, 0.385699987411499]"
            ]
          },
          "metadata": {},
          "execution_count": 26
        }
      ]
    },
    {
      "cell_type": "code",
      "source": [
        "class MyHyperModel(kt.HyperModel):\n",
        "  def build(self, hp):\n",
        "    model = keras.Sequential()\n",
        "    model.add(keras.layers.Flatten(input_shape=(32,32,3)))\n",
        "\n",
        "    hp_l2reg = hp.Float(\"l2reg\", min_value=0.001, max_value=10, step=10, sampling=\"log\")\n",
        "    model.add(keras.layers.Dense(units=10, activation=\"softmax\", activity_regularizer=keras.regularizers.L2(hp_l2reg)))\n",
        "\n",
        "    hp_learning_rate = hp.Float(\"learning_rate\", min_value=0.0001, max_value=0.1, step=10, sampling=\"log\")\n",
        "\n",
        "    model.compile(optimizer=keras.optimizers.Adam(learning_rate=hp_learning_rate),\n",
        "                  loss=keras.losses.SparseCategoricalCrossentropy(),\n",
        "                  metrics=['accuracy'])\n",
        "\n",
        "    return model\n",
        "  \n",
        "  def fit(self, hp, model, *args, **kwargs):\n",
        "    return model.fit(\n",
        "        *args,\n",
        "        batch_size=hp.Int(\"batch_size\", 32, 256, step=32),\n",
        "        **kwargs,\n",
        "    )\n"
      ],
      "metadata": {
        "id": "KBgGoaxkjeZF"
      },
      "execution_count": null,
      "outputs": []
    },
    {
      "cell_type": "code",
      "source": [
        "tuner = kt.Hyperband(MyHyperModel(), objective='val_accuracy', overwrite=True)\n",
        "stop_early = tf.keras.callbacks.EarlyStopping(monitor='val_loss', patience=5)"
      ],
      "metadata": {
        "id": "RSH2kb9pkTZV"
      },
      "execution_count": null,
      "outputs": []
    },
    {
      "cell_type": "code",
      "source": [
        "tuner.search(X_train, y_train, epochs=20, validation_data=(X_val, y_val), callbacks=[stop_early])"
      ],
      "metadata": {
        "colab": {
          "base_uri": "https://localhost:8080/"
        },
        "id": "7EzBR9DfkVJ5",
        "outputId": "7336e40a-d3f8-4578-8f80-8c3dfd2cebd5"
      },
      "execution_count": null,
      "outputs": [
        {
          "output_type": "stream",
          "name": "stdout",
          "text": [
            "Trial 223 Complete [00h 00m 37s]\n",
            "val_accuracy: 0.2615000009536743\n",
            "\n",
            "Best val_accuracy So Far: 0.3995000123977661\n",
            "Total elapsed time: 00h 32m 38s\n"
          ]
        }
      ]
    },
    {
      "cell_type": "code",
      "source": [
        "tuner.results_summary()"
      ],
      "metadata": {
        "colab": {
          "base_uri": "https://localhost:8080/"
        },
        "id": "H8duNpmWkgNZ",
        "outputId": "3151221f-bb80-4db5-902f-6f2b96d1ad63"
      },
      "execution_count": null,
      "outputs": [
        {
          "output_type": "stream",
          "name": "stdout",
          "text": [
            "Results summary\n",
            "Results in ./untitled_project\n",
            "Showing 10 best trials\n",
            "Objective(name=\"val_accuracy\", direction=\"max\")\n",
            "\n",
            "Trial 0145 summary\n",
            "Hyperparameters:\n",
            "l2reg: 0.01\n",
            "learning_rate: 0.001\n",
            "batch_size: 192\n",
            "tuner/epochs: 34\n",
            "tuner/initial_epoch: 12\n",
            "tuner/bracket: 4\n",
            "tuner/round: 3\n",
            "tuner/trial_id: 0138\n",
            "Score: 0.39662501215934753\n",
            "\n",
            "Trial 0132 summary\n",
            "Hyperparameters:\n",
            "l2reg: 0.001\n",
            "learning_rate: 0.001\n",
            "batch_size: 224\n",
            "tuner/epochs: 12\n",
            "tuner/initial_epoch: 4\n",
            "tuner/bracket: 4\n",
            "tuner/round: 2\n",
            "tuner/trial_id: 0103\n",
            "Score: 0.39262500405311584\n",
            "\n",
            "Trial 0146 summary\n",
            "Hyperparameters:\n",
            "l2reg: 0.01\n",
            "learning_rate: 0.001\n",
            "batch_size: 192\n",
            "tuner/epochs: 100\n",
            "tuner/initial_epoch: 34\n",
            "tuner/bracket: 4\n",
            "tuner/round: 4\n",
            "tuner/trial_id: 0145\n",
            "Score: 0.3917500078678131\n",
            "\n",
            "Trial 0142 summary\n",
            "Hyperparameters:\n",
            "l2reg: 0.001\n",
            "learning_rate: 0.001\n",
            "batch_size: 224\n",
            "tuner/epochs: 34\n",
            "tuner/initial_epoch: 12\n",
            "tuner/bracket: 4\n",
            "tuner/round: 3\n",
            "tuner/trial_id: 0132\n",
            "Score: 0.39149999618530273\n",
            "\n",
            "Trial 0144 summary\n",
            "Hyperparameters:\n",
            "l2reg: 0.001\n",
            "learning_rate: 0.001\n",
            "batch_size: 128\n",
            "tuner/epochs: 34\n",
            "tuner/initial_epoch: 12\n",
            "tuner/bracket: 4\n",
            "tuner/round: 3\n",
            "tuner/trial_id: 0135\n",
            "Score: 0.3891249895095825\n",
            "\n",
            "Trial 0143 summary\n",
            "Hyperparameters:\n",
            "l2reg: 0.01\n",
            "learning_rate: 0.001\n",
            "batch_size: 128\n",
            "tuner/epochs: 34\n",
            "tuner/initial_epoch: 12\n",
            "tuner/bracket: 4\n",
            "tuner/round: 3\n",
            "tuner/trial_id: 0140\n",
            "Score: 0.3889999985694885\n",
            "\n",
            "Trial 0140 summary\n",
            "Hyperparameters:\n",
            "l2reg: 0.01\n",
            "learning_rate: 0.001\n",
            "batch_size: 128\n",
            "tuner/epochs: 12\n",
            "tuner/initial_epoch: 4\n",
            "tuner/bracket: 4\n",
            "tuner/round: 2\n",
            "tuner/trial_id: 0126\n",
            "Score: 0.38887500762939453\n",
            "\n",
            "Trial 0147 summary\n",
            "Hyperparameters:\n",
            "l2reg: 0.001\n",
            "learning_rate: 0.001\n",
            "batch_size: 224\n",
            "tuner/epochs: 100\n",
            "tuner/initial_epoch: 34\n",
            "tuner/bracket: 4\n",
            "tuner/round: 4\n",
            "tuner/trial_id: 0142\n",
            "Score: 0.38887500762939453\n",
            "\n",
            "Trial 0135 summary\n",
            "Hyperparameters:\n",
            "l2reg: 0.001\n",
            "learning_rate: 0.001\n",
            "batch_size: 128\n",
            "tuner/epochs: 12\n",
            "tuner/initial_epoch: 4\n",
            "tuner/bracket: 4\n",
            "tuner/round: 2\n",
            "tuner/trial_id: 0100\n",
            "Score: 0.3882499933242798\n",
            "\n",
            "Trial 0138 summary\n",
            "Hyperparameters:\n",
            "l2reg: 0.01\n",
            "learning_rate: 0.001\n",
            "batch_size: 192\n",
            "tuner/epochs: 12\n",
            "tuner/initial_epoch: 4\n",
            "tuner/bracket: 4\n",
            "tuner/round: 2\n",
            "tuner/trial_id: 0111\n",
            "Score: 0.3877499997615814\n"
          ]
        }
      ]
    },
    {
      "cell_type": "code",
      "source": [
        "best_model = tuner.get_best_models()[0]\n",
        "best_model.summary()"
      ],
      "metadata": {
        "id": "YpvXC8-ukikX",
        "colab": {
          "base_uri": "https://localhost:8080/"
        },
        "outputId": "dc07d334-738d-4db0-cc5f-559f519e9db1"
      },
      "execution_count": null,
      "outputs": [
        {
          "output_type": "stream",
          "name": "stdout",
          "text": [
            "Model: \"sequential\"\n",
            "_________________________________________________________________\n",
            " Layer (type)                Output Shape              Param #   \n",
            "=================================================================\n",
            " flatten (Flatten)           (None, 3072)              0         \n",
            "                                                                 \n",
            " dense (Dense)               (None, 10)                30730     \n",
            "                                                                 \n",
            "=================================================================\n",
            "Total params: 30,730\n",
            "Trainable params: 30,730\n",
            "Non-trainable params: 0\n",
            "_________________________________________________________________\n"
          ]
        }
      ]
    },
    {
      "cell_type": "code",
      "source": [
        "best_model.evaluate(X_test, y_test)"
      ],
      "metadata": {
        "colab": {
          "base_uri": "https://localhost:8080/"
        },
        "id": "KgZLriwBkj3I",
        "outputId": "0bd6ccdc-833c-43ab-9b7c-24d1061f89d7"
      },
      "execution_count": null,
      "outputs": [
        {
          "output_type": "stream",
          "name": "stdout",
          "text": [
            "313/313 [==============================] - 1s 2ms/step - loss: 1.7514 - accuracy: 0.3908\n"
          ]
        },
        {
          "output_type": "execute_result",
          "data": {
            "text/plain": [
              "[1.7514220476150513, 0.39079999923706055]"
            ]
          },
          "metadata": {},
          "execution_count": 34
        }
      ]
    }
  ]
}