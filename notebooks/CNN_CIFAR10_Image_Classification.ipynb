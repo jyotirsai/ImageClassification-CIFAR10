{
  "cells": [
    {
      "cell_type": "code",
      "execution_count": null,
      "metadata": {
        "colab": {
          "base_uri": "https://localhost:8080/"
        },
        "id": "_yzPJCq6RUlt",
        "outputId": "75d041d7-988d-4af6-c695-356d347eaf1a"
      },
      "outputs": [
        {
          "name": "stdout",
          "output_type": "stream",
          "text": [
            "Looking in indexes: https://pypi.org/simple, https://us-python.pkg.dev/colab-wheels/public/simple/\n",
            "Collecting keras-tuner\n",
            "  Downloading keras_tuner-1.3.4-py3-none-any.whl (172 kB)\n",
            "\u001b[2K     \u001b[90m━━━━━━━━━━━━━━━━━━━━━━━━━━━━━━━━━━━━━━━\u001b[0m \u001b[32m172.2/172.2 KB\u001b[0m \u001b[31m5.0 MB/s\u001b[0m eta \u001b[36m0:00:00\u001b[0m\n",
            "\u001b[?25hRequirement already satisfied: requests in /usr/local/lib/python3.9/dist-packages (from keras-tuner) (2.27.1)\n",
            "Collecting kt-legacy\n",
            "  Downloading kt_legacy-1.0.4-py3-none-any.whl (9.6 kB)\n",
            "Requirement already satisfied: protobuf<=3.20.3 in /usr/local/lib/python3.9/dist-packages (from keras-tuner) (3.20.3)\n",
            "Requirement already satisfied: tensorflow>=2.0 in /usr/local/lib/python3.9/dist-packages (from keras-tuner) (2.12.0)\n",
            "Requirement already satisfied: packaging in /usr/local/lib/python3.9/dist-packages (from keras-tuner) (23.0)\n",
            "Requirement already satisfied: six>=1.12.0 in /usr/local/lib/python3.9/dist-packages (from tensorflow>=2.0->keras-tuner) (1.16.0)\n",
            "Requirement already satisfied: keras<2.13,>=2.12.0 in /usr/local/lib/python3.9/dist-packages (from tensorflow>=2.0->keras-tuner) (2.12.0)\n",
            "Requirement already satisfied: astunparse>=1.6.0 in /usr/local/lib/python3.9/dist-packages (from tensorflow>=2.0->keras-tuner) (1.6.3)\n",
            "Requirement already satisfied: tensorflow-estimator<2.13,>=2.12.0 in /usr/local/lib/python3.9/dist-packages (from tensorflow>=2.0->keras-tuner) (2.12.0)\n",
            "Requirement already satisfied: setuptools in /usr/local/lib/python3.9/dist-packages (from tensorflow>=2.0->keras-tuner) (67.6.1)\n",
            "Requirement already satisfied: opt-einsum>=2.3.2 in /usr/local/lib/python3.9/dist-packages (from tensorflow>=2.0->keras-tuner) (3.3.0)\n",
            "Requirement already satisfied: h5py>=2.9.0 in /usr/local/lib/python3.9/dist-packages (from tensorflow>=2.0->keras-tuner) (3.8.0)\n",
            "Requirement already satisfied: gast<=0.4.0,>=0.2.1 in /usr/local/lib/python3.9/dist-packages (from tensorflow>=2.0->keras-tuner) (0.4.0)\n",
            "Requirement already satisfied: grpcio<2.0,>=1.24.3 in /usr/local/lib/python3.9/dist-packages (from tensorflow>=2.0->keras-tuner) (1.53.0)\n",
            "Requirement already satisfied: libclang>=13.0.0 in /usr/local/lib/python3.9/dist-packages (from tensorflow>=2.0->keras-tuner) (16.0.0)\n",
            "Requirement already satisfied: flatbuffers>=2.0 in /usr/local/lib/python3.9/dist-packages (from tensorflow>=2.0->keras-tuner) (23.3.3)\n",
            "Requirement already satisfied: numpy<1.24,>=1.22 in /usr/local/lib/python3.9/dist-packages (from tensorflow>=2.0->keras-tuner) (1.22.4)\n",
            "Requirement already satisfied: tensorflow-io-gcs-filesystem>=0.23.1 in /usr/local/lib/python3.9/dist-packages (from tensorflow>=2.0->keras-tuner) (0.32.0)\n",
            "Requirement already satisfied: absl-py>=1.0.0 in /usr/local/lib/python3.9/dist-packages (from tensorflow>=2.0->keras-tuner) (1.4.0)\n",
            "Requirement already satisfied: wrapt<1.15,>=1.11.0 in /usr/local/lib/python3.9/dist-packages (from tensorflow>=2.0->keras-tuner) (1.14.1)\n",
            "Requirement already satisfied: termcolor>=1.1.0 in /usr/local/lib/python3.9/dist-packages (from tensorflow>=2.0->keras-tuner) (2.2.0)\n",
            "Requirement already satisfied: jax>=0.3.15 in /usr/local/lib/python3.9/dist-packages (from tensorflow>=2.0->keras-tuner) (0.4.7)\n",
            "Requirement already satisfied: google-pasta>=0.1.1 in /usr/local/lib/python3.9/dist-packages (from tensorflow>=2.0->keras-tuner) (0.2.0)\n",
            "Requirement already satisfied: tensorboard<2.13,>=2.12 in /usr/local/lib/python3.9/dist-packages (from tensorflow>=2.0->keras-tuner) (2.12.0)\n",
            "Requirement already satisfied: typing-extensions>=3.6.6 in /usr/local/lib/python3.9/dist-packages (from tensorflow>=2.0->keras-tuner) (4.5.0)\n",
            "Requirement already satisfied: urllib3<1.27,>=1.21.1 in /usr/local/lib/python3.9/dist-packages (from requests->keras-tuner) (1.26.15)\n",
            "Requirement already satisfied: idna<4,>=2.5 in /usr/local/lib/python3.9/dist-packages (from requests->keras-tuner) (3.4)\n",
            "Requirement already satisfied: certifi>=2017.4.17 in /usr/local/lib/python3.9/dist-packages (from requests->keras-tuner) (2022.12.7)\n",
            "Requirement already satisfied: charset-normalizer~=2.0.0 in /usr/local/lib/python3.9/dist-packages (from requests->keras-tuner) (2.0.12)\n",
            "Requirement already satisfied: wheel<1.0,>=0.23.0 in /usr/local/lib/python3.9/dist-packages (from astunparse>=1.6.0->tensorflow>=2.0->keras-tuner) (0.40.0)\n",
            "Requirement already satisfied: scipy>=1.7 in /usr/local/lib/python3.9/dist-packages (from jax>=0.3.15->tensorflow>=2.0->keras-tuner) (1.10.1)\n",
            "Requirement already satisfied: ml-dtypes>=0.0.3 in /usr/local/lib/python3.9/dist-packages (from jax>=0.3.15->tensorflow>=2.0->keras-tuner) (0.0.4)\n",
            "Requirement already satisfied: markdown>=2.6.8 in /usr/local/lib/python3.9/dist-packages (from tensorboard<2.13,>=2.12->tensorflow>=2.0->keras-tuner) (3.4.3)\n",
            "Requirement already satisfied: google-auth<3,>=1.6.3 in /usr/local/lib/python3.9/dist-packages (from tensorboard<2.13,>=2.12->tensorflow>=2.0->keras-tuner) (2.17.1)\n",
            "Requirement already satisfied: werkzeug>=1.0.1 in /usr/local/lib/python3.9/dist-packages (from tensorboard<2.13,>=2.12->tensorflow>=2.0->keras-tuner) (2.2.3)\n",
            "Requirement already satisfied: google-auth-oauthlib<0.5,>=0.4.1 in /usr/local/lib/python3.9/dist-packages (from tensorboard<2.13,>=2.12->tensorflow>=2.0->keras-tuner) (0.4.6)\n",
            "Requirement already satisfied: tensorboard-plugin-wit>=1.6.0 in /usr/local/lib/python3.9/dist-packages (from tensorboard<2.13,>=2.12->tensorflow>=2.0->keras-tuner) (1.8.1)\n",
            "Requirement already satisfied: tensorboard-data-server<0.8.0,>=0.7.0 in /usr/local/lib/python3.9/dist-packages (from tensorboard<2.13,>=2.12->tensorflow>=2.0->keras-tuner) (0.7.0)\n",
            "Requirement already satisfied: rsa<5,>=3.1.4 in /usr/local/lib/python3.9/dist-packages (from google-auth<3,>=1.6.3->tensorboard<2.13,>=2.12->tensorflow>=2.0->keras-tuner) (4.9)\n",
            "Requirement already satisfied: cachetools<6.0,>=2.0.0 in /usr/local/lib/python3.9/dist-packages (from google-auth<3,>=1.6.3->tensorboard<2.13,>=2.12->tensorflow>=2.0->keras-tuner) (5.3.0)\n",
            "Requirement already satisfied: pyasn1-modules>=0.2.1 in /usr/local/lib/python3.9/dist-packages (from google-auth<3,>=1.6.3->tensorboard<2.13,>=2.12->tensorflow>=2.0->keras-tuner) (0.2.8)\n",
            "Requirement already satisfied: requests-oauthlib>=0.7.0 in /usr/local/lib/python3.9/dist-packages (from google-auth-oauthlib<0.5,>=0.4.1->tensorboard<2.13,>=2.12->tensorflow>=2.0->keras-tuner) (1.3.1)\n",
            "Requirement already satisfied: importlib-metadata>=4.4 in /usr/local/lib/python3.9/dist-packages (from markdown>=2.6.8->tensorboard<2.13,>=2.12->tensorflow>=2.0->keras-tuner) (6.1.0)\n",
            "Requirement already satisfied: MarkupSafe>=2.1.1 in /usr/local/lib/python3.9/dist-packages (from werkzeug>=1.0.1->tensorboard<2.13,>=2.12->tensorflow>=2.0->keras-tuner) (2.1.2)\n",
            "Requirement already satisfied: zipp>=0.5 in /usr/local/lib/python3.9/dist-packages (from importlib-metadata>=4.4->markdown>=2.6.8->tensorboard<2.13,>=2.12->tensorflow>=2.0->keras-tuner) (3.15.0)\n",
            "Requirement already satisfied: pyasn1<0.5.0,>=0.4.6 in /usr/local/lib/python3.9/dist-packages (from pyasn1-modules>=0.2.1->google-auth<3,>=1.6.3->tensorboard<2.13,>=2.12->tensorflow>=2.0->keras-tuner) (0.4.8)\n",
            "Requirement already satisfied: oauthlib>=3.0.0 in /usr/local/lib/python3.9/dist-packages (from requests-oauthlib>=0.7.0->google-auth-oauthlib<0.5,>=0.4.1->tensorboard<2.13,>=2.12->tensorflow>=2.0->keras-tuner) (3.2.2)\n",
            "Installing collected packages: kt-legacy, keras-tuner\n",
            "Successfully installed keras-tuner-1.3.4 kt-legacy-1.0.4\n"
          ]
        }
      ],
      "source": [
        "!pip install keras-tuner"
      ]
    },
    {
      "cell_type": "code",
      "execution_count": null,
      "metadata": {
        "id": "EHSpil_o_Ioi"
      },
      "outputs": [],
      "source": [
        "import tensorflow as tf\n",
        "from tensorflow import keras\n",
        "import keras_tuner as kt\n",
        "import sklearn\n",
        "from sklearn.model_selection import train_test_split"
      ]
    },
    {
      "cell_type": "code",
      "execution_count": null,
      "metadata": {
        "colab": {
          "base_uri": "https://localhost:8080/"
        },
        "id": "30XVK7OkYEKl",
        "outputId": "c0b07488-1da7-415e-b2f0-3c379b8f804a"
      },
      "outputs": [
        {
          "name": "stdout",
          "output_type": "stream",
          "text": [
            "Num GPUs Available:  1\n"
          ]
        }
      ],
      "source": [
        "import tensorflow as tf\n",
        "print(\"Num GPUs Available: \", len(tf.config.list_physical_devices('GPU')))"
      ]
    },
    {
      "cell_type": "code",
      "execution_count": null,
      "metadata": {
        "colab": {
          "base_uri": "https://localhost:8080/"
        },
        "id": "I7MdqisLli-t",
        "outputId": "4bb39cae-21af-494d-fd5a-f479ef5c47c8"
      },
      "outputs": [
        {
          "name": "stdout",
          "output_type": "stream",
          "text": [
            "Downloading data from https://www.cs.toronto.edu/~kriz/cifar-10-python.tar.gz\n",
            "170498071/170498071 [==============================] - 2s 0us/step\n"
          ]
        }
      ],
      "source": [
        "(X_train, y_train), (X_test, y_test) = keras.datasets.cifar10.load_data()"
      ]
    },
    {
      "cell_type": "code",
      "execution_count": null,
      "metadata": {
        "id": "LKxhqLF5lvwi"
      },
      "outputs": [],
      "source": [
        "X_train = X_train.astype('float32') / 255.0\n",
        "X_test = X_test.astype('float32') / 255.0"
      ]
    },
    {
      "cell_type": "code",
      "execution_count": null,
      "metadata": {
        "id": "XkPkfjhBvtlE"
      },
      "outputs": [],
      "source": [
        "# split training into training and validation sets\n",
        "X_train, X_val, y_train, y_val = train_test_split(X_train, y_train, test_size=0.2, random_state=42)"
      ]
    },
    {
      "cell_type": "code",
      "execution_count": null,
      "metadata": {
        "id": "Zv3P0iXjmudD"
      },
      "outputs": [],
      "source": [
        "def BasicCNN():\n",
        "  model = keras.Sequential()\n",
        "  model.add(keras.layers.Conv2D(filters=32, kernel_size=(3,3), activation=\"relu\", input_shape=(32, 32, 3)))\n",
        "  model.add(keras.layers.Conv2D(filters=32, kernel_size=(3,3), activation=\"relu\"))\n",
        "  model.add(keras.layers.MaxPooling2D(pool_size=(2,2)))\n",
        "\n",
        "  model.add(keras.layers.Conv2D(filters=64, kernel_size=(3,3), activation=\"relu\", padding=\"same\"))\n",
        "  model.add(keras.layers.Conv2D(filters=64, kernel_size=(3,3), activation=\"relu\"))\n",
        "  model.add(keras.layers.MaxPooling2D(pool_size=(2,2)))\n",
        "\n",
        "  model.add(keras.layers.Flatten())\n",
        "\n",
        "  model.add(keras.layers.Dense(units=512, activation=\"relu\"))\n",
        "  model.add(keras.layers.Dense(units=10, activation=\"softmax\"))\n",
        "\n",
        "  opt = keras.optimizers.Adam(learning_rate=0.01)\n",
        "  model.compile(optimizer=opt, loss=\"sparse_categorical_crossentropy\", metrics=['accuracy'])\n",
        "\n",
        "  return model"
      ]
    },
    {
      "cell_type": "code",
      "execution_count": null,
      "metadata": {
        "id": "iEQGOVU_n6vc"
      },
      "outputs": [],
      "source": [
        "model = BasicCNN()"
      ]
    },
    {
      "cell_type": "code",
      "execution_count": null,
      "metadata": {
        "colab": {
          "base_uri": "https://localhost:8080/"
        },
        "id": "Pmfqrn_yobHY",
        "outputId": "11d0484e-d078-4ccb-f8c4-4ae8f138f2cd"
      },
      "outputs": [
        {
          "name": "stdout",
          "output_type": "stream",
          "text": [
            "Epoch 1/20\n",
            "1250/1250 [==============================] - 8s 5ms/step - loss: 2.0044 - accuracy: 0.2714 - val_loss: 1.7237 - val_accuracy: 0.3921\n",
            "Epoch 2/20\n",
            "1250/1250 [==============================] - 7s 5ms/step - loss: 1.6246 - accuracy: 0.4178 - val_loss: 1.5953 - val_accuracy: 0.4371\n",
            "Epoch 3/20\n",
            "1250/1250 [==============================] - 6s 5ms/step - loss: 1.4343 - accuracy: 0.4851 - val_loss: 1.3435 - val_accuracy: 0.5135\n",
            "Epoch 4/20\n",
            "1250/1250 [==============================] - 7s 5ms/step - loss: 1.2986 - accuracy: 0.5371 - val_loss: 1.2377 - val_accuracy: 0.5577\n",
            "Epoch 5/20\n",
            "1250/1250 [==============================] - 8s 6ms/step - loss: 1.1868 - accuracy: 0.5837 - val_loss: 1.1969 - val_accuracy: 0.5764\n",
            "Epoch 6/20\n",
            "1250/1250 [==============================] - 6s 5ms/step - loss: 1.0885 - accuracy: 0.6194 - val_loss: 1.1000 - val_accuracy: 0.6135\n",
            "Epoch 7/20\n",
            "1250/1250 [==============================] - 7s 5ms/step - loss: 0.9958 - accuracy: 0.6524 - val_loss: 1.1038 - val_accuracy: 0.6157\n",
            "Epoch 8/20\n",
            "1250/1250 [==============================] - 6s 5ms/step - loss: 0.9114 - accuracy: 0.6816 - val_loss: 1.0351 - val_accuracy: 0.6398\n",
            "Epoch 9/20\n",
            "1250/1250 [==============================] - 7s 5ms/step - loss: 0.8297 - accuracy: 0.7103 - val_loss: 1.0328 - val_accuracy: 0.6481\n",
            "Epoch 10/20\n",
            "1250/1250 [==============================] - 6s 5ms/step - loss: 0.7507 - accuracy: 0.7401 - val_loss: 0.9984 - val_accuracy: 0.6603\n",
            "Epoch 11/20\n",
            "1250/1250 [==============================] - 6s 5ms/step - loss: 0.6650 - accuracy: 0.7690 - val_loss: 1.0243 - val_accuracy: 0.6604\n",
            "Epoch 12/20\n",
            "1250/1250 [==============================] - 7s 5ms/step - loss: 0.5835 - accuracy: 0.7977 - val_loss: 1.0929 - val_accuracy: 0.6539\n",
            "Epoch 13/20\n",
            "1250/1250 [==============================] - 6s 5ms/step - loss: 0.4992 - accuracy: 0.8270 - val_loss: 1.0613 - val_accuracy: 0.6748\n",
            "Epoch 14/20\n",
            "1250/1250 [==============================] - 6s 5ms/step - loss: 0.4152 - accuracy: 0.8565 - val_loss: 1.2503 - val_accuracy: 0.6430\n",
            "Epoch 15/20\n",
            "1250/1250 [==============================] - 7s 5ms/step - loss: 0.3386 - accuracy: 0.8834 - val_loss: 1.2227 - val_accuracy: 0.6685\n",
            "Epoch 16/20\n",
            "1250/1250 [==============================] - 6s 5ms/step - loss: 0.2647 - accuracy: 0.9084 - val_loss: 1.3016 - val_accuracy: 0.6688\n",
            "Epoch 17/20\n",
            "1250/1250 [==============================] - 6s 5ms/step - loss: 0.2016 - accuracy: 0.9303 - val_loss: 1.4289 - val_accuracy: 0.6727\n",
            "Epoch 18/20\n",
            "1250/1250 [==============================] - 6s 5ms/step - loss: 0.1601 - accuracy: 0.9436 - val_loss: 1.5964 - val_accuracy: 0.6672\n",
            "Epoch 19/20\n",
            "1250/1250 [==============================] - 6s 5ms/step - loss: 0.1161 - accuracy: 0.9602 - val_loss: 1.7512 - val_accuracy: 0.6579\n",
            "Epoch 20/20\n",
            "1250/1250 [==============================] - 6s 5ms/step - loss: 0.0948 - accuracy: 0.9683 - val_loss: 1.7670 - val_accuracy: 0.6725\n"
          ]
        },
        {
          "data": {
            "text/plain": [
              "<keras.callbacks.History at 0x7f07000a2a00>"
            ]
          },
          "execution_count": 17,
          "metadata": {},
          "output_type": "execute_result"
        }
      ],
      "source": [
        "model.fit(X_train, y_train, validation_data=(X_val, y_val), epochs=20)"
      ]
    },
    {
      "cell_type": "code",
      "execution_count": null,
      "metadata": {
        "colab": {
          "base_uri": "https://localhost:8080/"
        },
        "id": "Z2JY7LQu4_Pi",
        "outputId": "24fef4cc-3bca-4b80-917d-fceebe430820"
      },
      "outputs": [
        {
          "name": "stdout",
          "output_type": "stream",
          "text": [
            "313/313 [==============================] - 12s 39ms/step - loss: 2.3732 - accuracy: 0.6480\n"
          ]
        },
        {
          "data": {
            "text/plain": [
              "[2.373150110244751, 0.6480000019073486]"
            ]
          },
          "execution_count": 9,
          "metadata": {},
          "output_type": "execute_result"
        }
      ],
      "source": [
        "model.evaluate(X_test, y_test)"
      ]
    },
    {
      "cell_type": "code",
      "execution_count": null,
      "metadata": {
        "id": "clWRypsHYa7i"
      },
      "outputs": [],
      "source": [
        "class MyHyperModel(kt.HyperModel):\n",
        "  def build(self, hp):\n",
        "    model = keras.Sequential()\n",
        "    model.add(keras.layers.Conv2D(\n",
        "        filters=hp.Int(\"conv_1_layers\", 32, 96, step=32),\n",
        "        kernel_size=(3,3),\n",
        "        activation=\"relu\", \n",
        "        input_shape=(32, 32, 3)\n",
        "    ))\n",
        "\n",
        "    model.add(keras.layers.Conv2D(\n",
        "        filters=hp.Int(\"conv_2_layers\", 32, 96, step=32),\n",
        "        kernel_size=(3,3),\n",
        "        activation=\"relu\"\n",
        "    ))\n",
        "\n",
        "    model.add(keras.layers.MaxPooling2D(pool_size=(2,2)))\n",
        "\n",
        "    model.add(keras.layers.Dropout(hp.Float('dropout_2', min_value=0, max_value=1, step=0.2)))\n",
        "\n",
        "    model.add(keras.layers.Conv2D(\n",
        "        filters=64, \n",
        "        kernel_size=(3,3), \n",
        "        activation=\"relu\",\n",
        "        padding=\"same\",\n",
        "    ))\n",
        "\n",
        "    model.add(keras.layers.Conv2D(\n",
        "        filters=64, \n",
        "        kernel_size=(3,3), \n",
        "        activation=\"relu\",\n",
        "    ))\n",
        "\n",
        "    model.add(keras.layers.Dropout(hp.Float('dropout_3', min_value=0, max_value=1, step=0.2)))\n",
        "\n",
        "    model.add(keras.layers.MaxPooling2D(pool_size=(2,2)))\n",
        "\n",
        "    model.add(keras.layers.Flatten())\n",
        "    model.add(keras.layers.Dense(units=hp.Int(\"dense_1\", 64, 512, step=32), activation=\"relu\"))\n",
        "    model.add(keras.layers.Dense(units=10, activation=\"softmax\"))\n",
        "\n",
        "    hp_learning_rate = hp.Choice('learning_rate', values=[1e-2, 1e-3, 1e-4])\n",
        "\n",
        "    model.compile(optimizer=keras.optimizers.Adam(learning_rate=hp_learning_rate),\n",
        "                  loss=keras.losses.SparseCategoricalCrossentropy(),\n",
        "                  metrics=['accuracy'])\n",
        "\n",
        "    return model\n",
        "  \n",
        "  def fit(self, hp, model, *args, **kwargs):\n",
        "    return model.fit(\n",
        "        *args,\n",
        "        batch_size=hp.Int(\"batch_size\", 32, 256, step=32),\n",
        "        **kwargs,\n",
        "    )\n"
      ]
    },
    {
      "cell_type": "code",
      "execution_count": null,
      "metadata": {
        "id": "MYPYhe7cTxKO"
      },
      "outputs": [],
      "source": [
        "tuner = kt.Hyperband(MyHyperModel(), objective='val_accuracy', overwrite=True)\n",
        "stop_early = tf.keras.callbacks.EarlyStopping(monitor='val_loss', patience=5)"
      ]
    },
    {
      "cell_type": "code",
      "execution_count": null,
      "metadata": {
        "colab": {
          "base_uri": "https://localhost:8080/"
        },
        "id": "EiXLLKoDZVjP",
        "outputId": "043dc15f-e614-4321-e593-eb1049802ee5"
      },
      "outputs": [
        {
          "name": "stdout",
          "output_type": "stream",
          "text": [
            "Trial 254 Complete [00h 01m 25s]\n",
            "val_accuracy: 0.10537499934434891\n",
            "\n",
            "Best val_accuracy So Far: 0.7802500128746033\n",
            "Total elapsed time: 02h 44m 49s\n"
          ]
        }
      ],
      "source": [
        "tuner.search(X_train, y_train, epochs=20, validation_data=(X_val, y_val), callbacks=[stop_early])"
      ]
    },
    {
      "cell_type": "code",
      "execution_count": null,
      "metadata": {
        "id": "KSMiDs8q3dK6"
      },
      "outputs": [],
      "source": [
        "best_model = tuner.get_best_models()[0]"
      ]
    },
    {
      "cell_type": "code",
      "execution_count": null,
      "metadata": {
        "colab": {
          "base_uri": "https://localhost:8080/"
        },
        "id": "Nb7KeY2Yfl5B",
        "outputId": "0481d19e-851a-4ad4-e77c-f99f207aa05f"
      },
      "outputs": [
        {
          "name": "stdout",
          "output_type": "stream",
          "text": [
            "Results summary\n",
            "Results in ./untitled_project\n",
            "Showing 10 best trials\n",
            "Objective(name=\"val_accuracy\", direction=\"max\")\n",
            "\n",
            "Trial 0245 summary\n",
            "Hyperparameters:\n",
            "conv_1_layers: 32\n",
            "conv_2_layers: 96\n",
            "dropout_2: 0.4\n",
            "dropout_3: 0.8\n",
            "dense_1: 96\n",
            "learning_rate: 0.001\n",
            "batch_size: 256\n",
            "tuner/epochs: 100\n",
            "tuner/initial_epoch: 34\n",
            "tuner/bracket: 1\n",
            "tuner/round: 1\n",
            "tuner/trial_id: 0238\n",
            "Score: 0.7864999771118164\n",
            "\n",
            "Trial 0238 summary\n",
            "Hyperparameters:\n",
            "conv_1_layers: 32\n",
            "conv_2_layers: 96\n",
            "dropout_2: 0.4\n",
            "dropout_3: 0.8\n",
            "dense_1: 96\n",
            "learning_rate: 0.001\n",
            "batch_size: 256\n",
            "tuner/epochs: 34\n",
            "tuner/initial_epoch: 0\n",
            "tuner/bracket: 1\n",
            "tuner/round: 0\n",
            "Score: 0.7796249985694885\n",
            "\n",
            "Trial 0143 summary\n",
            "Hyperparameters:\n",
            "conv_1_layers: 32\n",
            "conv_2_layers: 64\n",
            "dropout_2: 0.4\n",
            "dropout_3: 0.8\n",
            "dense_1: 384\n",
            "learning_rate: 0.001\n",
            "batch_size: 96\n",
            "tuner/epochs: 34\n",
            "tuner/initial_epoch: 12\n",
            "tuner/bracket: 4\n",
            "tuner/round: 3\n",
            "tuner/trial_id: 0139\n",
            "Score: 0.7735000252723694\n",
            "\n",
            "Trial 0146 summary\n",
            "Hyperparameters:\n",
            "conv_1_layers: 32\n",
            "conv_2_layers: 64\n",
            "dropout_2: 0.4\n",
            "dropout_3: 0.8\n",
            "dense_1: 384\n",
            "learning_rate: 0.001\n",
            "batch_size: 96\n",
            "tuner/epochs: 100\n",
            "tuner/initial_epoch: 34\n",
            "tuner/bracket: 4\n",
            "tuner/round: 4\n",
            "tuner/trial_id: 0143\n",
            "Score: 0.7721250057220459\n",
            "\n",
            "Trial 0204 summary\n",
            "Hyperparameters:\n",
            "conv_1_layers: 32\n",
            "conv_2_layers: 96\n",
            "dropout_2: 0.0\n",
            "dropout_3: 0.6000000000000001\n",
            "dense_1: 128\n",
            "learning_rate: 0.001\n",
            "batch_size: 192\n",
            "tuner/epochs: 34\n",
            "tuner/initial_epoch: 12\n",
            "tuner/bracket: 3\n",
            "tuner/round: 2\n",
            "tuner/trial_id: 0194\n",
            "Score: 0.7695000171661377\n",
            "\n",
            "Trial 0209 summary\n",
            "Hyperparameters:\n",
            "conv_1_layers: 96\n",
            "conv_2_layers: 64\n",
            "dropout_2: 0.0\n",
            "dropout_3: 0.8\n",
            "dense_1: 448\n",
            "learning_rate: 0.001\n",
            "batch_size: 128\n",
            "tuner/epochs: 100\n",
            "tuner/initial_epoch: 34\n",
            "tuner/bracket: 3\n",
            "tuner/round: 3\n",
            "tuner/trial_id: 0203\n",
            "Score: 0.768875002861023\n",
            "\n",
            "Trial 0208 summary\n",
            "Hyperparameters:\n",
            "conv_1_layers: 32\n",
            "conv_2_layers: 96\n",
            "dropout_2: 0.0\n",
            "dropout_3: 0.6000000000000001\n",
            "dense_1: 128\n",
            "learning_rate: 0.001\n",
            "batch_size: 192\n",
            "tuner/epochs: 100\n",
            "tuner/initial_epoch: 34\n",
            "tuner/bracket: 3\n",
            "tuner/round: 3\n",
            "tuner/trial_id: 0204\n",
            "Score: 0.768625020980835\n",
            "\n",
            "Trial 0203 summary\n",
            "Hyperparameters:\n",
            "conv_1_layers: 96\n",
            "conv_2_layers: 64\n",
            "dropout_2: 0.0\n",
            "dropout_3: 0.8\n",
            "dense_1: 448\n",
            "learning_rate: 0.001\n",
            "batch_size: 128\n",
            "tuner/epochs: 34\n",
            "tuner/initial_epoch: 12\n",
            "tuner/bracket: 3\n",
            "tuner/round: 2\n",
            "tuner/trial_id: 0191\n",
            "Score: 0.7681249976158142\n",
            "\n",
            "Trial 0235 summary\n",
            "Hyperparameters:\n",
            "conv_1_layers: 32\n",
            "conv_2_layers: 32\n",
            "dropout_2: 0.4\n",
            "dropout_3: 0.6000000000000001\n",
            "dense_1: 160\n",
            "learning_rate: 0.001\n",
            "batch_size: 96\n",
            "tuner/epochs: 100\n",
            "tuner/initial_epoch: 34\n",
            "tuner/bracket: 2\n",
            "tuner/round: 2\n",
            "tuner/trial_id: 0228\n",
            "Score: 0.7632499933242798\n",
            "\n",
            "Trial 0132 summary\n",
            "Hyperparameters:\n",
            "conv_1_layers: 32\n",
            "conv_2_layers: 96\n",
            "dropout_2: 0.2\n",
            "dropout_3: 0.6000000000000001\n",
            "dense_1: 320\n",
            "learning_rate: 0.001\n",
            "batch_size: 64\n",
            "tuner/epochs: 12\n",
            "tuner/initial_epoch: 4\n",
            "tuner/bracket: 4\n",
            "tuner/round: 2\n",
            "tuner/trial_id: 0103\n",
            "Score: 0.7630000114440918\n"
          ]
        }
      ],
      "source": [
        "tuner.results_summary()"
      ]
    },
    {
      "cell_type": "code",
      "execution_count": null,
      "metadata": {
        "colab": {
          "base_uri": "https://localhost:8080/"
        },
        "id": "QGcONywG3wbD",
        "outputId": "e23a922e-424a-4b1e-f76b-0573d73b7cbd"
      },
      "outputs": [
        {
          "name": "stdout",
          "output_type": "stream",
          "text": [
            "313/313 [==============================] - 1s 4ms/step - loss: 0.6518 - accuracy: 0.7896\n"
          ]
        },
        {
          "data": {
            "text/plain": [
              "[0.6518431901931763, 0.7896000146865845]"
            ]
          },
          "execution_count": 15,
          "metadata": {},
          "output_type": "execute_result"
        }
      ],
      "source": [
        "best_model.evaluate(X_test, y_test)"
      ]
    }
  ],
  "metadata": {
    "accelerator": "GPU",
    "colab": {
      "provenance": []
    },
    "gpuClass": "standard",
    "kernelspec": {
      "display_name": "Python 3",
      "name": "python3"
    },
    "language_info": {
      "name": "python"
    }
  },
  "nbformat": 4,
  "nbformat_minor": 0
}
