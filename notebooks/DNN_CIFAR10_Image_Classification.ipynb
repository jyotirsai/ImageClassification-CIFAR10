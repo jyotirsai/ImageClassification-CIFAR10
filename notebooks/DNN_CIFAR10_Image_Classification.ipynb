{
  "cells": [
    {
      "cell_type": "code",
      "execution_count": null,
      "metadata": {
        "colab": {
          "base_uri": "https://localhost:8080/"
        },
        "id": "MD_cms_699Gl",
        "outputId": "b69dbb42-1b1f-4ca7-f3ad-e1e449f9f546"
      },
      "outputs": [
        {
          "name": "stdout",
          "output_type": "stream",
          "text": [
            "Looking in indexes: https://pypi.org/simple, https://us-python.pkg.dev/colab-wheels/public/simple/\n",
            "Collecting keras-tuner\n",
            "  Downloading keras_tuner-1.3.4-py3-none-any.whl (172 kB)\n",
            "\u001b[2K     \u001b[90m━━━━━━━━━━━━━━━━━━━━━━━━━━━━━━━━━━━━━━━\u001b[0m \u001b[32m172.2/172.2 KB\u001b[0m \u001b[31m6.4 MB/s\u001b[0m eta \u001b[36m0:00:00\u001b[0m\n",
            "\u001b[?25hRequirement already satisfied: tensorflow>=2.0 in /usr/local/lib/python3.9/dist-packages (from keras-tuner) (2.12.0)\n",
            "Requirement already satisfied: protobuf<=3.20.3 in /usr/local/lib/python3.9/dist-packages (from keras-tuner) (3.20.3)\n",
            "Requirement already satisfied: packaging in /usr/local/lib/python3.9/dist-packages (from keras-tuner) (23.0)\n",
            "Requirement already satisfied: requests in /usr/local/lib/python3.9/dist-packages (from keras-tuner) (2.27.1)\n",
            "Collecting kt-legacy\n",
            "  Downloading kt_legacy-1.0.4-py3-none-any.whl (9.6 kB)\n",
            "Requirement already satisfied: google-pasta>=0.1.1 in /usr/local/lib/python3.9/dist-packages (from tensorflow>=2.0->keras-tuner) (0.2.0)\n",
            "Requirement already satisfied: keras<2.13,>=2.12.0 in /usr/local/lib/python3.9/dist-packages (from tensorflow>=2.0->keras-tuner) (2.12.0)\n",
            "Requirement already satisfied: absl-py>=1.0.0 in /usr/local/lib/python3.9/dist-packages (from tensorflow>=2.0->keras-tuner) (1.4.0)\n",
            "Requirement already satisfied: tensorboard<2.13,>=2.12 in /usr/local/lib/python3.9/dist-packages (from tensorflow>=2.0->keras-tuner) (2.12.0)\n",
            "Requirement already satisfied: setuptools in /usr/local/lib/python3.9/dist-packages (from tensorflow>=2.0->keras-tuner) (67.6.1)\n",
            "Requirement already satisfied: gast<=0.4.0,>=0.2.1 in /usr/local/lib/python3.9/dist-packages (from tensorflow>=2.0->keras-tuner) (0.4.0)\n",
            "Requirement already satisfied: termcolor>=1.1.0 in /usr/local/lib/python3.9/dist-packages (from tensorflow>=2.0->keras-tuner) (2.2.0)\n",
            "Requirement already satisfied: tensorflow-io-gcs-filesystem>=0.23.1 in /usr/local/lib/python3.9/dist-packages (from tensorflow>=2.0->keras-tuner) (0.32.0)\n",
            "Requirement already satisfied: numpy<1.24,>=1.22 in /usr/local/lib/python3.9/dist-packages (from tensorflow>=2.0->keras-tuner) (1.22.4)\n",
            "Requirement already satisfied: grpcio<2.0,>=1.24.3 in /usr/local/lib/python3.9/dist-packages (from tensorflow>=2.0->keras-tuner) (1.53.0)\n",
            "Requirement already satisfied: jax>=0.3.15 in /usr/local/lib/python3.9/dist-packages (from tensorflow>=2.0->keras-tuner) (0.4.7)\n",
            "Requirement already satisfied: six>=1.12.0 in /usr/local/lib/python3.9/dist-packages (from tensorflow>=2.0->keras-tuner) (1.16.0)\n",
            "Requirement already satisfied: h5py>=2.9.0 in /usr/local/lib/python3.9/dist-packages (from tensorflow>=2.0->keras-tuner) (3.8.0)\n",
            "Requirement already satisfied: typing-extensions>=3.6.6 in /usr/local/lib/python3.9/dist-packages (from tensorflow>=2.0->keras-tuner) (4.5.0)\n",
            "Requirement already satisfied: astunparse>=1.6.0 in /usr/local/lib/python3.9/dist-packages (from tensorflow>=2.0->keras-tuner) (1.6.3)\n",
            "Requirement already satisfied: flatbuffers>=2.0 in /usr/local/lib/python3.9/dist-packages (from tensorflow>=2.0->keras-tuner) (23.3.3)\n",
            "Requirement already satisfied: opt-einsum>=2.3.2 in /usr/local/lib/python3.9/dist-packages (from tensorflow>=2.0->keras-tuner) (3.3.0)\n",
            "Requirement already satisfied: tensorflow-estimator<2.13,>=2.12.0 in /usr/local/lib/python3.9/dist-packages (from tensorflow>=2.0->keras-tuner) (2.12.0)\n",
            "Requirement already satisfied: wrapt<1.15,>=1.11.0 in /usr/local/lib/python3.9/dist-packages (from tensorflow>=2.0->keras-tuner) (1.14.1)\n",
            "Requirement already satisfied: libclang>=13.0.0 in /usr/local/lib/python3.9/dist-packages (from tensorflow>=2.0->keras-tuner) (16.0.0)\n",
            "Requirement already satisfied: certifi>=2017.4.17 in /usr/local/lib/python3.9/dist-packages (from requests->keras-tuner) (2022.12.7)\n",
            "Requirement already satisfied: charset-normalizer~=2.0.0 in /usr/local/lib/python3.9/dist-packages (from requests->keras-tuner) (2.0.12)\n",
            "Requirement already satisfied: idna<4,>=2.5 in /usr/local/lib/python3.9/dist-packages (from requests->keras-tuner) (3.4)\n",
            "Requirement already satisfied: urllib3<1.27,>=1.21.1 in /usr/local/lib/python3.9/dist-packages (from requests->keras-tuner) (1.26.15)\n",
            "Requirement already satisfied: wheel<1.0,>=0.23.0 in /usr/local/lib/python3.9/dist-packages (from astunparse>=1.6.0->tensorflow>=2.0->keras-tuner) (0.40.0)\n",
            "Requirement already satisfied: scipy>=1.7 in /usr/local/lib/python3.9/dist-packages (from jax>=0.3.15->tensorflow>=2.0->keras-tuner) (1.10.1)\n",
            "Requirement already satisfied: ml-dtypes>=0.0.3 in /usr/local/lib/python3.9/dist-packages (from jax>=0.3.15->tensorflow>=2.0->keras-tuner) (0.0.4)\n",
            "Requirement already satisfied: google-auth<3,>=1.6.3 in /usr/local/lib/python3.9/dist-packages (from tensorboard<2.13,>=2.12->tensorflow>=2.0->keras-tuner) (2.17.1)\n",
            "Requirement already satisfied: tensorboard-data-server<0.8.0,>=0.7.0 in /usr/local/lib/python3.9/dist-packages (from tensorboard<2.13,>=2.12->tensorflow>=2.0->keras-tuner) (0.7.0)\n",
            "Requirement already satisfied: werkzeug>=1.0.1 in /usr/local/lib/python3.9/dist-packages (from tensorboard<2.13,>=2.12->tensorflow>=2.0->keras-tuner) (2.2.3)\n",
            "Requirement already satisfied: markdown>=2.6.8 in /usr/local/lib/python3.9/dist-packages (from tensorboard<2.13,>=2.12->tensorflow>=2.0->keras-tuner) (3.4.3)\n",
            "Requirement already satisfied: tensorboard-plugin-wit>=1.6.0 in /usr/local/lib/python3.9/dist-packages (from tensorboard<2.13,>=2.12->tensorflow>=2.0->keras-tuner) (1.8.1)\n",
            "Requirement already satisfied: google-auth-oauthlib<0.5,>=0.4.1 in /usr/local/lib/python3.9/dist-packages (from tensorboard<2.13,>=2.12->tensorflow>=2.0->keras-tuner) (0.4.6)\n",
            "Requirement already satisfied: pyasn1-modules>=0.2.1 in /usr/local/lib/python3.9/dist-packages (from google-auth<3,>=1.6.3->tensorboard<2.13,>=2.12->tensorflow>=2.0->keras-tuner) (0.2.8)\n",
            "Requirement already satisfied: rsa<5,>=3.1.4 in /usr/local/lib/python3.9/dist-packages (from google-auth<3,>=1.6.3->tensorboard<2.13,>=2.12->tensorflow>=2.0->keras-tuner) (4.9)\n",
            "Requirement already satisfied: cachetools<6.0,>=2.0.0 in /usr/local/lib/python3.9/dist-packages (from google-auth<3,>=1.6.3->tensorboard<2.13,>=2.12->tensorflow>=2.0->keras-tuner) (5.3.0)\n",
            "Requirement already satisfied: requests-oauthlib>=0.7.0 in /usr/local/lib/python3.9/dist-packages (from google-auth-oauthlib<0.5,>=0.4.1->tensorboard<2.13,>=2.12->tensorflow>=2.0->keras-tuner) (1.3.1)\n",
            "Requirement already satisfied: importlib-metadata>=4.4 in /usr/local/lib/python3.9/dist-packages (from markdown>=2.6.8->tensorboard<2.13,>=2.12->tensorflow>=2.0->keras-tuner) (6.1.0)\n",
            "Requirement already satisfied: MarkupSafe>=2.1.1 in /usr/local/lib/python3.9/dist-packages (from werkzeug>=1.0.1->tensorboard<2.13,>=2.12->tensorflow>=2.0->keras-tuner) (2.1.2)\n",
            "Requirement already satisfied: zipp>=0.5 in /usr/local/lib/python3.9/dist-packages (from importlib-metadata>=4.4->markdown>=2.6.8->tensorboard<2.13,>=2.12->tensorflow>=2.0->keras-tuner) (3.15.0)\n",
            "Requirement already satisfied: pyasn1<0.5.0,>=0.4.6 in /usr/local/lib/python3.9/dist-packages (from pyasn1-modules>=0.2.1->google-auth<3,>=1.6.3->tensorboard<2.13,>=2.12->tensorflow>=2.0->keras-tuner) (0.4.8)\n",
            "Requirement already satisfied: oauthlib>=3.0.0 in /usr/local/lib/python3.9/dist-packages (from requests-oauthlib>=0.7.0->google-auth-oauthlib<0.5,>=0.4.1->tensorboard<2.13,>=2.12->tensorflow>=2.0->keras-tuner) (3.2.2)\n",
            "Installing collected packages: kt-legacy, keras-tuner\n",
            "Successfully installed keras-tuner-1.3.4 kt-legacy-1.0.4\n"
          ]
        }
      ],
      "source": [
        "!pip install keras-tuner"
      ]
    },
    {
      "cell_type": "code",
      "execution_count": null,
      "metadata": {
        "id": "19O0T6mb-C9O"
      },
      "outputs": [],
      "source": [
        "import tensorflow as tf\n",
        "from tensorflow import keras\n",
        "import keras_tuner as kt\n",
        "import sklearn\n",
        "from sklearn.model_selection import train_test_split\n",
        "import matplotlib.pyplot as plt"
      ]
    },
    {
      "cell_type": "code",
      "execution_count": null,
      "metadata": {
        "colab": {
          "base_uri": "https://localhost:8080/"
        },
        "id": "Xd802AnV-Pa0",
        "outputId": "2ba3c0a6-6295-4bd0-ddaf-340be96fe3aa"
      },
      "outputs": [
        {
          "name": "stdout",
          "output_type": "stream",
          "text": [
            "Num GPUs Available:  1\n"
          ]
        }
      ],
      "source": [
        "print(\"Num GPUs Available: \", len(tf.config.list_physical_devices('GPU')))"
      ]
    },
    {
      "cell_type": "code",
      "execution_count": null,
      "metadata": {
        "colab": {
          "base_uri": "https://localhost:8080/"
        },
        "id": "YxhiTWCe-VUL",
        "outputId": "a8ed5f20-dc88-4d10-e13e-3fcda065e469"
      },
      "outputs": [
        {
          "name": "stdout",
          "output_type": "stream",
          "text": [
            "Downloading data from https://www.cs.toronto.edu/~kriz/cifar-10-python.tar.gz\n",
            "170498071/170498071 [==============================] - 6s 0us/step\n"
          ]
        }
      ],
      "source": [
        "\"\"\"\n",
        "  Import CIFAR-10 data and apply some transformations\n",
        "\"\"\"\n",
        "\n",
        "(X_train, y_train), (X_test, y_test) = keras.datasets.cifar10.load_data()\n",
        "\n",
        "X_train = X_train.astype('float32') / 255.0\n",
        "X_test = X_test.astype('float32') / 255.0\n",
        "\n",
        "# split training into training and validation sets\n",
        "X_train, X_val, y_train, y_val = train_test_split(X_train, y_train, test_size=0.2, random_state=42)"
      ]
    },
    {
      "cell_type": "code",
      "execution_count": null,
      "metadata": {
        "colab": {
          "base_uri": "https://localhost:8080/"
        },
        "id": "twgLcagVDDtO",
        "outputId": "83719afb-1be7-4021-8602-81042798e758"
      },
      "outputs": [
        {
          "name": "stdout",
          "output_type": "stream",
          "text": [
            "(40000, 32, 32, 3) (40000, 1)\n"
          ]
        }
      ],
      "source": [
        "print(X_train.shape, y_train.shape)"
      ]
    },
    {
      "cell_type": "code",
      "execution_count": null,
      "metadata": {
        "id": "0U9ES666-hLo"
      },
      "outputs": [],
      "source": [
        "\"\"\"\n",
        "  Basic Deep Neural Network Model\n",
        "\"\"\"\n",
        "\n",
        "def BasicDNN():\n",
        "  model = tf.keras.models.Sequential()\n",
        "  model.add(tf.keras.layers.Flatten(input_shape=(32,32,3)))\n",
        "  model.add(keras.layers.Dense(units=1536, activation='relu'))\n",
        "  model.add(keras.layers.Dense(units=768, activation='relu'))\n",
        "  model.add(keras.layers.Dense(units=384, activation='relu'))\n",
        "  model.add(keras.layers.Dense(units=128, activation='relu'))\n",
        "  model.add(keras.layers.Dense(units=10, activation='softmax'))\n",
        "\n",
        "  opt = keras.optimizers.Adam(learning_rate=0.01)\n",
        "  model.compile(optimizer=opt, loss=\"sparse_categorical_crossentropy\", metrics=['accuracy'])\n",
        "\n",
        "  return model"
      ]
    },
    {
      "cell_type": "code",
      "execution_count": null,
      "metadata": {
        "id": "sZZGSyT3A78R"
      },
      "outputs": [],
      "source": [
        "basic_dnn = BasicDNN()"
      ]
    },
    {
      "cell_type": "code",
      "execution_count": null,
      "metadata": {
        "colab": {
          "base_uri": "https://localhost:8080/"
        },
        "id": "-1UDZKzvA_Vw",
        "outputId": "9bfd5f31-2ec6-4335-c679-c46f81851216"
      },
      "outputs": [
        {
          "name": "stdout",
          "output_type": "stream",
          "text": [
            "Epoch 1/20\n",
            "157/157 [==============================] - 8s 11ms/step - loss: 4.7021 - accuracy: 0.2241 - val_loss: 1.8948 - val_accuracy: 0.2892\n",
            "Epoch 2/20\n",
            "157/157 [==============================] - 1s 7ms/step - loss: 1.8530 - accuracy: 0.3211 - val_loss: 1.7702 - val_accuracy: 0.3564\n",
            "Epoch 3/20\n",
            "157/157 [==============================] - 1s 9ms/step - loss: 1.7723 - accuracy: 0.3585 - val_loss: 1.8010 - val_accuracy: 0.3436\n",
            "Epoch 4/20\n",
            "157/157 [==============================] - 1s 9ms/step - loss: 1.7332 - accuracy: 0.3719 - val_loss: 1.7255 - val_accuracy: 0.3765\n",
            "Epoch 5/20\n",
            "157/157 [==============================] - 2s 12ms/step - loss: 1.7065 - accuracy: 0.3817 - val_loss: 1.7309 - val_accuracy: 0.3818\n",
            "Epoch 6/20\n",
            "157/157 [==============================] - 2s 13ms/step - loss: 1.6861 - accuracy: 0.3927 - val_loss: 1.6890 - val_accuracy: 0.3905\n",
            "Epoch 7/20\n",
            "157/157 [==============================] - 2s 11ms/step - loss: 1.6792 - accuracy: 0.3931 - val_loss: 1.7148 - val_accuracy: 0.3842\n",
            "Epoch 8/20\n",
            "157/157 [==============================] - 2s 10ms/step - loss: 1.6553 - accuracy: 0.4047 - val_loss: 1.6921 - val_accuracy: 0.3918\n",
            "Epoch 9/20\n",
            "157/157 [==============================] - 1s 9ms/step - loss: 1.6507 - accuracy: 0.4063 - val_loss: 1.6805 - val_accuracy: 0.3980\n",
            "Epoch 10/20\n",
            "157/157 [==============================] - 2s 10ms/step - loss: 1.6366 - accuracy: 0.4085 - val_loss: 1.7557 - val_accuracy: 0.3786\n",
            "Epoch 11/20\n",
            "157/157 [==============================] - 2s 13ms/step - loss: 1.6247 - accuracy: 0.4170 - val_loss: 1.6554 - val_accuracy: 0.4068\n",
            "Epoch 12/20\n",
            "157/157 [==============================] - 2s 12ms/step - loss: 1.6205 - accuracy: 0.4137 - val_loss: 1.6934 - val_accuracy: 0.3945\n",
            "Epoch 13/20\n",
            "157/157 [==============================] - 2s 13ms/step - loss: 1.6098 - accuracy: 0.4213 - val_loss: 1.6620 - val_accuracy: 0.4023\n",
            "Epoch 14/20\n",
            "157/157 [==============================] - 2s 12ms/step - loss: 1.6147 - accuracy: 0.4208 - val_loss: 1.6844 - val_accuracy: 0.3922\n",
            "Epoch 15/20\n",
            "157/157 [==============================] - 1s 8ms/step - loss: 1.6131 - accuracy: 0.4178 - val_loss: 1.6745 - val_accuracy: 0.3951\n",
            "Epoch 16/20\n",
            "157/157 [==============================] - 1s 7ms/step - loss: 1.6012 - accuracy: 0.4251 - val_loss: 1.6993 - val_accuracy: 0.3850\n",
            "Epoch 17/20\n",
            "157/157 [==============================] - 1s 7ms/step - loss: 1.5888 - accuracy: 0.4272 - val_loss: 1.6459 - val_accuracy: 0.4138\n",
            "Epoch 18/20\n",
            "157/157 [==============================] - 1s 7ms/step - loss: 1.5934 - accuracy: 0.4272 - val_loss: 1.6414 - val_accuracy: 0.4090\n",
            "Epoch 19/20\n",
            "157/157 [==============================] - 1s 9ms/step - loss: 1.5885 - accuracy: 0.4270 - val_loss: 1.6543 - val_accuracy: 0.3998\n",
            "Epoch 20/20\n",
            "157/157 [==============================] - 1s 9ms/step - loss: 1.5910 - accuracy: 0.4259 - val_loss: 1.7529 - val_accuracy: 0.3841\n"
          ]
        }
      ],
      "source": [
        "history = basic_dnn.fit(X_train, y_train, validation_data=(X_val, y_val), epochs=20, batch_size=256)"
      ]
    },
    {
      "cell_type": "code",
      "execution_count": null,
      "metadata": {
        "colab": {
          "base_uri": "https://localhost:8080/"
        },
        "id": "t-xL6XYxCVfc",
        "outputId": "d19b7fdc-7f43-4594-fd32-abd7b9e157f9"
      },
      "outputs": [
        {
          "name": "stdout",
          "output_type": "stream",
          "text": [
            "313/313 [==============================] - 1s 3ms/step - loss: 1.5425 - accuracy: 0.4535\n"
          ]
        },
        {
          "data": {
            "text/plain": [
              "[1.5425031185150146, 0.45350000262260437]"
            ]
          },
          "execution_count": 20,
          "metadata": {},
          "output_type": "execute_result"
        }
      ],
      "source": [
        "basic_dnn.evaluate(X_test, y_test)"
      ]
    },
    {
      "cell_type": "code",
      "execution_count": null,
      "metadata": {
        "id": "gpJ7MijpI7E-"
      },
      "outputs": [],
      "source": [
        "class MyHyperModel(kt.HyperModel):\n",
        "  def build(self, hp):\n",
        "    model = tf.keras.models.Sequential()\n",
        "    model.add(tf.keras.layers.Flatten(input_shape=(32,32,3)))\n",
        "    model.add(keras.layers.Dense(units=hp.Int('layer_1', 1000, 2280, step=128), activation='relu'))\n",
        "    model.add(keras.layers.Dense(units=768, activation='relu'))\n",
        "    model.add(keras.layers.Dropout(hp.Float('dropout_1', min_value=0, max_value=1, step=0.2)))\n",
        "    model.add(keras.layers.Dense(units=384, activation='relu'))\n",
        "    model.add(keras.layers.Dense(units=128, activation='relu'))\n",
        "    model.add(keras.layers.Dropout(hp.Float('dropout_2', min_value=0, max_value=1, step=0.2)))\n",
        "    model.add(keras.layers.Dense(units=10, activation='softmax'))\n",
        "\n",
        "    hp_learning_rate = hp.Choice('learning_rate', values=[1e-2, 1e-3, 1e-4])\n",
        "\n",
        "    model.compile(optimizer=keras.optimizers.Adam(learning_rate=hp_learning_rate),\n",
        "                  loss=keras.losses.SparseCategoricalCrossentropy(),\n",
        "                  metrics=['accuracy'])\n",
        "\n",
        "    return model\n",
        "  \n",
        "  def fit(self, hp, model, *args, **kwargs):\n",
        "    return model.fit(\n",
        "        *args,\n",
        "        batch_size=hp.Int(\"batch_size\", 32, 256, step=32),\n",
        "        **kwargs,\n",
        "    )"
      ]
    },
    {
      "cell_type": "code",
      "execution_count": null,
      "metadata": {
        "id": "MsDiR8aJKMRa"
      },
      "outputs": [],
      "source": [
        "dnn_tuner = kt.Hyperband(MyHyperModel(), objective='val_accuracy', overwrite=True)\n",
        "stop_early = tf.keras.callbacks.EarlyStopping(monitor='val_loss', patience=5)"
      ]
    },
    {
      "cell_type": "code",
      "execution_count": null,
      "metadata": {
        "colab": {
          "base_uri": "https://localhost:8080/"
        },
        "id": "83RpqLUkKRXH",
        "outputId": "ef154b11-40ec-4ad4-fd5d-bccd53e03157"
      },
      "outputs": [
        {
          "name": "stdout",
          "output_type": "stream",
          "text": [
            "Trial 254 Complete [00h 00m 45s]\n",
            "val_accuracy: 0.5147500038146973\n",
            "\n",
            "Best val_accuracy So Far: 0.5350000262260437\n",
            "Total elapsed time: 01h 14m 10s\n"
          ]
        }
      ],
      "source": [
        "dnn_tuner.search(X_train, y_train, epochs=20, validation_data=(X_val, y_val), callbacks=[stop_early])"
      ]
    },
    {
      "cell_type": "code",
      "execution_count": null,
      "metadata": {
        "colab": {
          "base_uri": "https://localhost:8080/"
        },
        "id": "xS0iD4WKKVE5",
        "outputId": "a21229ab-2eb0-41be-9b2c-694e1b2e9777"
      },
      "outputs": [
        {
          "name": "stdout",
          "output_type": "stream",
          "text": [
            "Results summary\n",
            "Results in ./untitled_project\n",
            "Showing 10 best trials\n",
            "Objective(name=\"val_accuracy\", direction=\"max\")\n",
            "\n",
            "Trial 0147 summary\n",
            "Hyperparameters:\n",
            "layer_1: 1768\n",
            "dropout_1: 0.2\n",
            "dropout_2: 0.0\n",
            "learning_rate: 0.0001\n",
            "batch_size: 96\n",
            "tuner/epochs: 100\n",
            "tuner/initial_epoch: 34\n",
            "tuner/bracket: 4\n",
            "tuner/round: 4\n",
            "tuner/trial_id: 0144\n",
            "Score: 0.5356249809265137\n",
            "\n",
            "Trial 0242 summary\n",
            "Hyperparameters:\n",
            "layer_1: 1768\n",
            "dropout_1: 0.0\n",
            "dropout_2: 0.4\n",
            "learning_rate: 0.0001\n",
            "batch_size: 128\n",
            "tuner/epochs: 34\n",
            "tuner/initial_epoch: 0\n",
            "tuner/bracket: 1\n",
            "tuner/round: 0\n",
            "Score: 0.5329999923706055\n",
            "\n",
            "Trial 0234 summary\n",
            "Hyperparameters:\n",
            "layer_1: 1384\n",
            "dropout_1: 0.2\n",
            "dropout_2: 0.6000000000000001\n",
            "learning_rate: 0.0001\n",
            "batch_size: 192\n",
            "tuner/epochs: 100\n",
            "tuner/initial_epoch: 34\n",
            "tuner/bracket: 2\n",
            "tuner/round: 2\n",
            "tuner/trial_id: 0230\n",
            "Score: 0.5301250219345093\n",
            "\n",
            "Trial 0146 summary\n",
            "Hyperparameters:\n",
            "layer_1: 1640\n",
            "dropout_1: 0.0\n",
            "dropout_2: 0.2\n",
            "learning_rate: 0.0001\n",
            "batch_size: 160\n",
            "tuner/epochs: 100\n",
            "tuner/initial_epoch: 34\n",
            "tuner/bracket: 4\n",
            "tuner/round: 4\n",
            "tuner/trial_id: 0143\n",
            "Score: 0.5296249985694885\n",
            "\n",
            "Trial 0245 summary\n",
            "Hyperparameters:\n",
            "layer_1: 1768\n",
            "dropout_1: 0.0\n",
            "dropout_2: 0.4\n",
            "learning_rate: 0.0001\n",
            "batch_size: 128\n",
            "tuner/epochs: 100\n",
            "tuner/initial_epoch: 34\n",
            "tuner/bracket: 1\n",
            "tuner/round: 1\n",
            "tuner/trial_id: 0242\n",
            "Score: 0.5295000076293945\n",
            "\n",
            "Trial 0247 summary\n",
            "Hyperparameters:\n",
            "layer_1: 1128\n",
            "dropout_1: 0.4\n",
            "dropout_2: 0.4\n",
            "learning_rate: 0.0001\n",
            "batch_size: 32\n",
            "tuner/epochs: 100\n",
            "tuner/initial_epoch: 34\n",
            "tuner/bracket: 1\n",
            "tuner/round: 1\n",
            "tuner/trial_id: 0244\n",
            "Score: 0.5295000076293945\n",
            "\n",
            "Trial 0208 summary\n",
            "Hyperparameters:\n",
            "layer_1: 1768\n",
            "dropout_1: 0.0\n",
            "dropout_2: 0.2\n",
            "learning_rate: 0.0001\n",
            "batch_size: 256\n",
            "tuner/epochs: 100\n",
            "tuner/initial_epoch: 34\n",
            "tuner/bracket: 3\n",
            "tuner/round: 3\n",
            "tuner/trial_id: 0205\n",
            "Score: 0.5292500257492065\n",
            "\n",
            "Trial 0143 summary\n",
            "Hyperparameters:\n",
            "layer_1: 1640\n",
            "dropout_1: 0.0\n",
            "dropout_2: 0.2\n",
            "learning_rate: 0.0001\n",
            "batch_size: 160\n",
            "tuner/epochs: 34\n",
            "tuner/initial_epoch: 12\n",
            "tuner/bracket: 4\n",
            "tuner/round: 3\n",
            "tuner/trial_id: 0133\n",
            "Score: 0.528249979019165\n",
            "\n",
            "Trial 0144 summary\n",
            "Hyperparameters:\n",
            "layer_1: 1768\n",
            "dropout_1: 0.2\n",
            "dropout_2: 0.0\n",
            "learning_rate: 0.0001\n",
            "batch_size: 96\n",
            "tuner/epochs: 34\n",
            "tuner/initial_epoch: 12\n",
            "tuner/bracket: 4\n",
            "tuner/round: 3\n",
            "tuner/trial_id: 0132\n",
            "Score: 0.5268750190734863\n",
            "\n",
            "Trial 0209 summary\n",
            "Hyperparameters:\n",
            "layer_1: 1768\n",
            "dropout_1: 0.0\n",
            "dropout_2: 0.0\n",
            "learning_rate: 0.0001\n",
            "batch_size: 128\n",
            "tuner/epochs: 100\n",
            "tuner/initial_epoch: 34\n",
            "tuner/bracket: 3\n",
            "tuner/round: 3\n",
            "tuner/trial_id: 0203\n",
            "Score: 0.5267500281333923\n"
          ]
        }
      ],
      "source": [
        "dnn_tuner.results_summary()"
      ]
    },
    {
      "cell_type": "code",
      "execution_count": null,
      "metadata": {
        "id": "1QbFsHAme2ta"
      },
      "outputs": [],
      "source": [
        "best_model = dnn_tuner.get_best_models()[0]"
      ]
    },
    {
      "cell_type": "code",
      "execution_count": null,
      "metadata": {
        "colab": {
          "base_uri": "https://localhost:8080/"
        },
        "id": "q7OjngZje8p6",
        "outputId": "50e8dab3-dad2-45f4-ee82-cb2627413085"
      },
      "outputs": [
        {
          "name": "stdout",
          "output_type": "stream",
          "text": [
            "313/313 [==============================] - 1s 3ms/step - loss: 1.3618 - accuracy: 0.5423\n"
          ]
        },
        {
          "data": {
            "text/plain": [
              "[1.3617863655090332, 0.5422999858856201]"
            ]
          },
          "execution_count": 26,
          "metadata": {},
          "output_type": "execute_result"
        }
      ],
      "source": [
        "best_model.evaluate(X_test, y_test)"
      ]
    },
    {
      "cell_type": "code",
      "execution_count": null,
      "metadata": {
        "id": "N_Q7iVT-DKfe"
      },
      "outputs": [],
      "source": []
    }
  ],
  "metadata": {
    "accelerator": "GPU",
    "colab": {
      "provenance": []
    },
    "gpuClass": "standard",
    "kernelspec": {
      "display_name": "Python 3",
      "name": "python3"
    },
    "language_info": {
      "name": "python"
    }
  },
  "nbformat": 4,
  "nbformat_minor": 0
}
